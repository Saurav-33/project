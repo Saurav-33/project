{
 "cells": [
  {
   "cell_type": "code",
   "execution_count": 1,
   "id": "3efef407-29d9-469f-9381-29fd3e6df31e",
   "metadata": {},
   "outputs": [],
   "source": [
    "import pandas as pd"
   ]
  },
  {
   "cell_type": "code",
   "execution_count": 5,
   "id": "e7205d6d-2386-4d85-8d95-61e9b2dc2d8d",
   "metadata": {},
   "outputs": [],
   "source": [
    "df_transactions = pd.read_csv(\"transaction_data.csv\")\n",
    "df_customers = pd.read_csv(\"purchase_behaviour.csv\")"
   ]
  },
  {
   "cell_type": "code",
   "execution_count": 6,
   "id": "4f84fef4-1870-471e-bd66-e1de96666422",
   "metadata": {},
   "outputs": [],
   "source": [
    "top_products = (\n",
    "    df_transactions.groupby(\"PROD_NAME\")[\"TOT_SALES\"].sum()\n",
    "    .nlargest(3)\n",
    "    .reset_index()\n",
    ")"
   ]
  },
  {
   "cell_type": "code",
   "execution_count": 7,
   "id": "36c467c0-be72-4669-bb74-f469fce109f3",
   "metadata": {},
   "outputs": [],
   "source": [
    "loyal_customers = df_transactions.groupby(\"LYLTY_CARD_NBR\")[\"TXN_ID\"].count()"
   ]
  },
  {
   "cell_type": "code",
   "execution_count": null,
   "id": "3c02a91b-1034-415e-9318-a608a696ec37",
   "metadata": {},
   "outputs": [],
   "source": []
  }
 ],
 "metadata": {
  "kernelspec": {
   "display_name": "Python 3 (ipykernel)",
   "language": "python",
   "name": "python3"
  },
  "language_info": {
   "codemirror_mode": {
    "name": "ipython",
    "version": 3
   },
   "file_extension": ".py",
   "mimetype": "text/x-python",
   "name": "python",
   "nbconvert_exporter": "python",
   "pygments_lexer": "ipython3",
   "version": "3.12.3"
  }
 },
 "nbformat": 4,
 "nbformat_minor": 5
}
